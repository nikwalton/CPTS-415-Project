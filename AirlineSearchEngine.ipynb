{
 "cells": [
  {
   "cell_type": "code",
   "execution_count": 1,
   "id": "ce6d1319",
   "metadata": {},
   "outputs": [
    {
     "name": "stderr",
     "output_type": "stream",
     "text": [
      "21/11/14 00:51:04 WARN Utils: Your hostname, parallels-Parallels-Virtual-Platform resolves to a loopback address: 127.0.1.1; using 10.211.55.3 instead (on interface enp0s5)\n",
      "21/11/14 00:51:04 WARN Utils: Set SPARK_LOCAL_IP if you need to bind to another address\n",
      "WARNING: An illegal reflective access operation has occurred\n",
      "WARNING: Illegal reflective access by org.apache.spark.unsafe.Platform (file:/home/parallels/.local/lib/python3.8/site-packages/pyspark/jars/spark-unsafe_2.12-3.0.3.jar) to constructor java.nio.DirectByteBuffer(long,int)\n",
      "WARNING: Please consider reporting this to the maintainers of org.apache.spark.unsafe.Platform\n",
      "WARNING: Use --illegal-access=warn to enable warnings of further illegal reflective access operations\n",
      "WARNING: All illegal access operations will be denied in a future release\n",
      "Ivy Default Cache set to: /home/parallels/.ivy2/cache\n",
      "The jars for the packages stored in: /home/parallels/.ivy2/jars\n",
      ":: loading settings :: url = jar:file:/home/parallels/.local/lib/python3.8/site-packages/pyspark/jars/ivy-2.4.0.jar!/org/apache/ivy/core/settings/ivysettings.xml\n",
      "org.apache.sedona#sedona-python-adapter-3.0_2.12 added as a dependency\n",
      "org.datasyslab#geotools-wrapper added as a dependency\n",
      ":: resolving dependencies :: org.apache.spark#spark-submit-parent-975782e2-c10f-4b7e-ae1b-4fc0c0350822;1.0\n",
      "\tconfs: [default]\n",
      "\tfound org.apache.sedona#sedona-python-adapter-3.0_2.12;1.0.1-incubating in central\n",
      "\tfound org.locationtech.jts#jts-core;1.18.0 in central\n",
      "\tfound org.wololo#jts2geojson;0.16.1 in central\n",
      "\tfound com.fasterxml.jackson.core#jackson-databind;2.12.2 in central\n",
      "\tfound com.fasterxml.jackson.core#jackson-annotations;2.12.2 in central\n",
      "\tfound com.fasterxml.jackson.core#jackson-core;2.12.2 in central\n",
      "\tfound org.apache.sedona#sedona-core-3.0_2.12;1.0.1-incubating in central\n",
      "\tfound org.apache.sedona#sedona-sql-3.0_2.12;1.0.1-incubating in central\n",
      "\tfound org.datasyslab#geotools-wrapper;geotools-24.1 in central\n",
      ":: resolution report :: resolve 651ms :: artifacts dl 31ms\n",
      "\t:: modules in use:\n",
      "\tcom.fasterxml.jackson.core#jackson-annotations;2.12.2 from central in [default]\n",
      "\tcom.fasterxml.jackson.core#jackson-core;2.12.2 from central in [default]\n",
      "\tcom.fasterxml.jackson.core#jackson-databind;2.12.2 from central in [default]\n",
      "\torg.apache.sedona#sedona-core-3.0_2.12;1.0.1-incubating from central in [default]\n",
      "\torg.apache.sedona#sedona-python-adapter-3.0_2.12;1.0.1-incubating from central in [default]\n",
      "\torg.apache.sedona#sedona-sql-3.0_2.12;1.0.1-incubating from central in [default]\n",
      "\torg.datasyslab#geotools-wrapper;geotools-24.1 from central in [default]\n",
      "\torg.locationtech.jts#jts-core;1.18.0 from central in [default]\n",
      "\torg.wololo#jts2geojson;0.16.1 from central in [default]\n",
      "\t:: evicted modules:\n",
      "\torg.locationtech.jts#jts-core;1.18.1 by [org.locationtech.jts#jts-core;1.18.0] in [default]\n",
      "\t---------------------------------------------------------------------\n",
      "\t|                  |            modules            ||   artifacts   |\n",
      "\t|       conf       | number| search|dwnlded|evicted|| number|dwnlded|\n",
      "\t---------------------------------------------------------------------\n",
      "\t|      default     |   10  |   0   |   0   |   1   ||   9   |   0   |\n",
      "\t---------------------------------------------------------------------\n",
      ":: retrieving :: org.apache.spark#spark-submit-parent-975782e2-c10f-4b7e-ae1b-4fc0c0350822\n",
      "\tconfs: [default]\n",
      "\t0 artifacts copied, 9 already retrieved (0kB/58ms)\n",
      "21/11/14 00:51:06 WARN NativeCodeLoader: Unable to load native-hadoop library for your platform... using builtin-java classes where applicable\n",
      "Using Spark's default log4j profile: org/apache/spark/log4j-defaults.properties\n",
      "Setting default log level to \"WARN\".\n",
      "To adjust logging level use sc.setLogLevel(newLevel). For SparkR, use setLogLevel(newLevel).\n",
      "21/11/14 00:51:08 WARN SparkContext: Please ensure that the number of slots available on your executors is limited by the number of cores to task cpus and not another custom resource. If cores is not the limiting resource then dynamic allocation will not work properly!\n",
      "                                                                                \r"
     ]
    },
    {
     "data": {
      "text/plain": [
       "True"
      ]
     },
     "execution_count": 1,
     "metadata": {},
     "output_type": "execute_result"
    }
   ],
   "source": [
    "import pyspark\n",
    "from pyspark.sql import SparkSession\n",
    "from sedona.register import SedonaRegistrator\n",
    "from sedona.utils import SedonaKryoRegistrator, KryoSerializer\n",
    "\n",
    "import geopandas as gpd\n",
    "spark = SparkSession. \\\n",
    "    builder. \\\n",
    "    appName('Milestone 2 Data Prep'). \\\n",
    "    master(\"spark://nwalton-ubuntu:7077\"). \\\n",
    "    config(\"spark.serializer\", KryoSerializer.getName). \\\n",
    "    config(\"spark.kryo.registrator\", SedonaKryoRegistrator.getName). \\\n",
    "    config('spark.jars.packages',\n",
    "           'org.apache.sedona:sedona-python-adapter-3.0_2.12:1.0.1-incubating,'\n",
    "           'org.datasyslab:geotools-wrapper:geotools-24.1'). \\\n",
    "    getOrCreate()\n",
    "\n",
    "SedonaRegistrator.registerAll(spark)"
   ]
  },
  {
   "cell_type": "markdown",
   "id": "97e1ef93",
   "metadata": {},
   "source": [
    "# Data Prep"
   ]
  },
  {
   "cell_type": "code",
   "execution_count": 2,
   "id": "fc080449",
   "metadata": {},
   "outputs": [
    {
     "name": "stdout",
     "output_type": "stream",
     "text": [
      "+----------+--------------------+------------------+----------------+----+----+------------------+-------------------+--------+--------+---+---------------------+-------+-----------+\n",
      "|Airport_ID|                Name|              City|         Country|IATA|ICAO|          Latitude|          Longitude|Altitude|Timezone|DST|Tz Database time zone|   Type|     Source|\n",
      "+----------+--------------------+------------------+----------------+----+----+------------------+-------------------+--------+--------+---+---------------------+-------+-----------+\n",
      "|         2|      Madang Airport|            Madang|Papua New Guinea| MAG|AYMD|    -5.20707988739|      145.789001465|      20|      10|  U| Pacific/Port_Moresby|airport|OurAirports|\n",
      "|         3|Mount Hagen Kagam...|       Mount Hagen|Papua New Guinea| HGU|AYMH|-5.826789855957031| 144.29600524902344|    5388|      10|  U| Pacific/Port_Moresby|airport|OurAirports|\n",
      "|         4|      Nadzab Airport|            Nadzab|Papua New Guinea| LAE|AYNZ|         -6.569803|         146.725977|     239|      10|  U| Pacific/Port_Moresby|airport|OurAirports|\n",
      "|         5|Port Moresby Jack...|      Port Moresby|Papua New Guinea| POM|AYPY|-9.443380355834961| 147.22000122070312|     146|      10|  U| Pacific/Port_Moresby|airport|OurAirports|\n",
      "|         6|Wewak Internation...|             Wewak|Papua New Guinea| WWK|AYWK|    -3.58383011818|      143.669006348|      19|      10|  U| Pacific/Port_Moresby|airport|OurAirports|\n",
      "|         7|  Narsarsuaq Airport|      Narssarssuaq|       Greenland| UAK|BGBW|     61.1604995728|     -45.4259986877|     112|      -3|  E|      America/Godthab|airport|OurAirports|\n",
      "|         8|Godthaab / Nuuk A...|          Godthaab|       Greenland| GOH|BGGH|       64.19090271|     -51.6781005859|     283|      -3|  E|      America/Godthab|airport|OurAirports|\n",
      "|         9|Kangerlussuaq Air...|       Sondrestrom|       Greenland| SFJ|BGSF|     67.0122218992|     -50.7116031647|     165|      -3|  E|      America/Godthab|airport|OurAirports|\n",
      "|        10|      Thule Air Base|             Thule|       Greenland| THU|BGTL|     76.5311965942|     -68.7032012939|     251|      -4|  E|        America/Thule|airport|OurAirports|\n",
      "|        11|    Akureyri Airport|          Akureyri|         Iceland| AEY|BIAR| 65.66000366210938| -18.07270050048828|       6|       0|  N|   Atlantic/Reykjavik|airport|OurAirports|\n",
      "|        12| Egilsstaðir Airport|       Egilsstadir|         Iceland| EGS|BIEG|  65.2833023071289|-14.401399612426758|      76|       0|  N|   Atlantic/Reykjavik|airport|OurAirports|\n",
      "|        13|Hornafjörður Airport|              Hofn|         Iceland| HFN|BIHN|         64.295601|           -15.2272|      24|       0|  N|   Atlantic/Reykjavik|airport|OurAirports|\n",
      "|        14|     Húsavík Airport|           Husavik|         Iceland| HZK|BIHU|         65.952301|         -17.426001|      48|       0|  N|   Atlantic/Reykjavik|airport|OurAirports|\n",
      "|        15|  Ísafjörður Airport|        Isafjordur|         Iceland| IFJ|BIIS| 66.05809783935547|-23.135299682617188|       8|       0|  N|   Atlantic/Reykjavik|airport|OurAirports|\n",
      "|        16|Keflavik Internat...|          Keflavik|         Iceland| KEF|BIKF|   63.985000610352|   -22.605600357056|     171|       0|  N|   Atlantic/Reykjavik|airport|OurAirports|\n",
      "|        17|Patreksfjörður Ai...|    Patreksfjordur|         Iceland| PFJ|BIPA|         65.555801|            -23.965|      11|       0|  N|   Atlantic/Reykjavik|airport|OurAirports|\n",
      "|        18|   Reykjavik Airport|         Reykjavik|         Iceland| RKV|BIRK|     64.1299972534|     -21.9405994415|      48|       0|  N|   Atlantic/Reykjavik|airport|OurAirports|\n",
      "|        19|Siglufjörður Airport|      Siglufjordur|         Iceland| SIJ|BISI|         66.133301|           -18.9167|      10|       0|  N|   Atlantic/Reykjavik|airport|OurAirports|\n",
      "|        20|Vestmannaeyjar Ai...|    Vestmannaeyjar|         Iceland| VEY|BIVM| 63.42430114746094|-20.278900146484375|     326|       0|  N|   Atlantic/Reykjavik|airport|OurAirports|\n",
      "|        21|Sault Ste Marie A...|Sault Sainte Marie|          Canada| YAM|CYAM| 46.48500061035156|  -84.5093994140625|     630|      -5|  A|      America/Toronto|airport|OurAirports|\n",
      "+----------+--------------------+------------------+----------------+----+----+------------------+-------------------+--------+--------+---+---------------------+-------+-----------+\n",
      "only showing top 20 rows\n",
      "\n",
      "root\n",
      " |-- Airport_ID: string (nullable = true)\n",
      " |-- Name: string (nullable = true)\n",
      " |-- City: string (nullable = true)\n",
      " |-- Country: string (nullable = true)\n",
      " |-- IATA: string (nullable = true)\n",
      " |-- ICAO: string (nullable = true)\n",
      " |-- Latitude: string (nullable = true)\n",
      " |-- Longitude: string (nullable = true)\n",
      " |-- Altitude: string (nullable = true)\n",
      " |-- Timezone: string (nullable = true)\n",
      " |-- DST: string (nullable = true)\n",
      " |-- Tz Database time zone: string (nullable = true)\n",
      " |-- Type: string (nullable = true)\n",
      " |-- Source: string (nullable = true)\n",
      "\n"
     ]
    }
   ],
   "source": [
    "#Airport DF\n",
    "airports_dat = spark.read.format(\"csv\").\\\n",
    "    option(\"header\", \"true\").\\\n",
    "    option(\"delimiter\", \",\").\\\n",
    "    load(\"./Data/airports.dat\").\\\n",
    "    toDF(\"Airport_ID\", \"Name\", \"City\", \"Country\", \"IATA\", \"ICAO\", \n",
    "         \"Latitude\", \"Longitude\", \"Altitude\", \"Timezone\", \"DST\", \"Tz Database time zone\", \n",
    "         \"Type\", \"Source\")\n",
    "    \n",
    "airports_dat.show()\n",
    "airports_dat.printSchema()"
   ]
  },
  {
   "cell_type": "code",
   "execution_count": 3,
   "id": "10cd4b60",
   "metadata": {},
   "outputs": [
    {
     "name": "stdout",
     "output_type": "stream",
     "text": [
      "+-------------+--------------------+\n",
      "|       s_name|             s_bound|\n",
      "+-------------+--------------------+\n",
      "|       Alaska|POLYGON((-141.020...|\n",
      "|      Alabama|POLYGON((-88.1955...|\n",
      "|     Arkansas|POLYGON((-94.0416...|\n",
      "|      Arizona|POLYGON((-112.598...|\n",
      "|   California|POLYGON((-124.400...|\n",
      "|     Colorado|POLYGON((-109.044...|\n",
      "|  Connecticut|POLYGON((-73.4875...|\n",
      "|     Delaware|POLYGON((-75.7919...|\n",
      "|      Florida|POLYGON((-87.6050...|\n",
      "|      Georgia|POLYGON((-85.6082...|\n",
      "|       Hawaii|POLYGON((-154.628...|\n",
      "|         Iowa|POLYGON((-95.7623...|\n",
      "|        Idaho|POLYGON((-117.031...|\n",
      "|     Illinois|POLYGON((-90.6290...|\n",
      "|      Indiana|POLYGON((-87.5253...|\n",
      "|       Kansas|POLYGON((-102.050...|\n",
      "|     Kentucky|POLYGON((-89.5372...|\n",
      "|    Louisiana|POLYGON((-94.0430...|\n",
      "|Massachusetts|POLYGON((-72.7789...|\n",
      "|     Maryland|POLYGON((-79.4778...|\n",
      "+-------------+--------------------+\n",
      "only showing top 20 rows\n",
      "\n"
     ]
    }
   ],
   "source": [
    "state_boundary_dat = spark.read.option(\"delimiter\", \"\\t\").\\\n",
    "option(\"header\", \"false\").\\\n",
    "csv(\"Data/boundary-each-state.tsv\").\\\n",
    "toDF(\"s_name\",\"s_bound\")\n",
    "\n",
    "state_boundary_dat.show()"
   ]
  },
  {
   "cell_type": "code",
   "execution_count": 4,
   "id": "1bbc7df8",
   "metadata": {},
   "outputs": [
    {
     "name": "stdout",
     "output_type": "stream",
     "text": [
      "+----------+--------------------+-----+----+----+---------------+--------------+------+\n",
      "|Airline_ID|                Name|Alias|IATA|ICAO|       Callsign|       Country|Active|\n",
      "+----------+--------------------+-----+----+----+---------------+--------------+------+\n",
      "|         1|      Private flight|   \\N|   -| N/A|           null|          null|     Y|\n",
      "|         2|         135 Airways|   \\N|null| GNL|        GENERAL| United States|     N|\n",
      "|         3|       1Time Airline|   \\N|  1T| RNX|        NEXTIME|  South Africa|     Y|\n",
      "|         4|2 Sqn No 1 Elemen...|   \\N|null| WYT|           null|United Kingdom|     N|\n",
      "|         5|     213 Flight Unit|   \\N|null| TFU|           null|        Russia|     N|\n",
      "|         6|223 Flight Unit S...|   \\N|null| CHD| CHKALOVSK-AVIA|        Russia|     N|\n",
      "|         7|   224th Flight Unit|   \\N|null| TTF|     CARGO UNIT|        Russia|     N|\n",
      "|         8|         247 Jet Ltd|   \\N|null| TWF|   CLOUD RUNNER|United Kingdom|     N|\n",
      "|         9|         3D Aviation|   \\N|null| SEC|        SECUREX| United States|     N|\n",
      "|        10|         40-Mile Air|   \\N|  Q5| MLA|       MILE-AIR| United States|     Y|\n",
      "|        11|              4D Air|   \\N|null| QRT|        QUARTET|      Thailand|     N|\n",
      "|        12|611897 Alberta Li...|   \\N|null| THD|          DONUT|        Canada|     N|\n",
      "|        13|    Ansett Australia|   \\N|  AN| AAA|         ANSETT|     Australia|     Y|\n",
      "|        14|Abacus International|   \\N|  1B|null|           null|     Singapore|     Y|\n",
      "|        15|     Abelag Aviation|   \\N|  W9| AAB|            ABG|       Belgium|     N|\n",
      "|        16|      Army Air Corps|   \\N|null| AAC|        ARMYAIR|United Kingdom|     N|\n",
      "|        17|Aero Aviation Cen...|   \\N|null| AAD|        SUNRISE|        Canada|     N|\n",
      "|        18|Aero Servicios Ej...|   \\N|null| SII|         ASEISA|        Mexico|     N|\n",
      "|        19|         Aero Biniza|   \\N|null| BZS|         BINIZA|        Mexico|     N|\n",
      "|        20|       Aero Albatros|   \\N|null| ABM|ALBATROS ESPANA|         Spain|     N|\n",
      "+----------+--------------------+-----+----+----+---------------+--------------+------+\n",
      "only showing top 20 rows\n",
      "\n",
      "root\n",
      " |-- Airline_ID: string (nullable = true)\n",
      " |-- Name: string (nullable = true)\n",
      " |-- Alias: string (nullable = true)\n",
      " |-- IATA: string (nullable = true)\n",
      " |-- ICAO: string (nullable = true)\n",
      " |-- Callsign: string (nullable = true)\n",
      " |-- Country: string (nullable = true)\n",
      " |-- Active: string (nullable = true)\n",
      "\n"
     ]
    }
   ],
   "source": [
    "airlines_dat = spark.read.format(\"csv\").\\\n",
    "option(\"header\", \"true\").\\\n",
    "option(\"delimiter\", \",\").\\\n",
    "load(\"Data/airlines.dat\").\\\n",
    "toDF(\"Airline_ID\", \"Name\", \"Alias\", \"IATA\", \"ICAO\", \"Callsign\", \n",
    "    \"Country\", \"Active\")\n",
    "\n",
    "airlines_dat.show()\n",
    "airlines_dat.printSchema()\n"
   ]
  },
  {
   "cell_type": "code",
   "execution_count": 5,
   "id": "3217015e",
   "metadata": {},
   "outputs": [
    {
     "name": "stderr",
     "output_type": "stream",
     "text": [
      "\r",
      "[Stage 9:>                                                          (0 + 1) / 1]\r",
      "\r",
      "                                                                                \r"
     ]
    },
    {
     "name": "stdout",
     "output_type": "stream",
     "text": [
      "+-------+----------+--------------+-----------------+-------------------+----------------------+---------+-----+---------+\n",
      "|Airline|Airline_ID|Source_Airport|Source_Airport_ID|Destination_Airport|Destination_Airport_ID|Codeshare|Stops|Equipment|\n",
      "+-------+----------+--------------+-----------------+-------------------+----------------------+---------+-----+---------+\n",
      "|     2B|       410|           ASF|             2966|                KZN|                  2990|     null|    0|      CR2|\n",
      "|     2B|       410|           ASF|             2966|                MRV|                  2962|     null|    0|      CR2|\n",
      "|     2B|       410|           CEK|             2968|                KZN|                  2990|     null|    0|      CR2|\n",
      "|     2B|       410|           CEK|             2968|                OVB|                  4078|     null|    0|      CR2|\n",
      "|     2B|       410|           DME|             4029|                KZN|                  2990|     null|    0|      CR2|\n",
      "|     2B|       410|           DME|             4029|                NBC|                  6969|     null|    0|      CR2|\n",
      "|     2B|       410|           DME|             4029|                TGK|                    \\N|     null|    0|      CR2|\n",
      "|     2B|       410|           DME|             4029|                UUA|                  6160|     null|    0|      CR2|\n",
      "|     2B|       410|           EGO|             6156|                KGD|                  2952|     null|    0|      CR2|\n",
      "|     2B|       410|           EGO|             6156|                KZN|                  2990|     null|    0|      CR2|\n",
      "|     2B|       410|           GYD|             2922|                NBC|                  6969|     null|    0|      CR2|\n",
      "|     2B|       410|           KGD|             2952|                EGO|                  6156|     null|    0|      CR2|\n",
      "|     2B|       410|           KZN|             2990|                AER|                  2965|     null|    0|      CR2|\n",
      "|     2B|       410|           KZN|             2990|                ASF|                  2966|     null|    0|      CR2|\n",
      "|     2B|       410|           KZN|             2990|                CEK|                  2968|     null|    0|      CR2|\n",
      "|     2B|       410|           KZN|             2990|                DME|                  4029|     null|    0|      CR2|\n",
      "|     2B|       410|           KZN|             2990|                EGO|                  6156|     null|    0|      CR2|\n",
      "|     2B|       410|           KZN|             2990|                LED|                  2948|     null|    0|      CR2|\n",
      "|     2B|       410|           KZN|             2990|                SVX|                  2975|     null|    0|      CR2|\n",
      "|     2B|       410|           LED|             2948|                KZN|                  2990|     null|    0|      CR2|\n",
      "+-------+----------+--------------+-----------------+-------------------+----------------------+---------+-----+---------+\n",
      "only showing top 20 rows\n",
      "\n",
      "root\n",
      " |-- Airline: string (nullable = true)\n",
      " |-- Airline_ID: string (nullable = true)\n",
      " |-- Source_Airport: string (nullable = true)\n",
      " |-- Source_Airport_ID: string (nullable = true)\n",
      " |-- Destination_Airport: string (nullable = true)\n",
      " |-- Destination_Airport_ID: string (nullable = true)\n",
      " |-- Codeshare: string (nullable = true)\n",
      " |-- Stops: string (nullable = true)\n",
      " |-- Equipment: string (nullable = true)\n",
      "\n"
     ]
    }
   ],
   "source": [
    "routes_dat = spark.read.format(\"csv\").\\\n",
    "option(\"header\", \"true\").\\\n",
    "option(\"delimiter\", \",\").\\\n",
    "load(\"Data/routes.dat\").\\\n",
    "toDF(\"Airline\", \"Airline_ID\", \"Source_Airport\", \"Source_Airport_ID\", \n",
    "     \"Destination_Airport\", \"Destination_Airport_ID\", \"Codeshare\", \n",
    "     \"Stops\", \"Equipment\")\n",
    "\n",
    "routes_dat.show()\n",
    "routes_dat.printSchema()\n",
    "\n"
   ]
  },
  {
   "cell_type": "markdown",
   "id": "a4051fc8",
   "metadata": {},
   "source": [
    "# Milestone 3 Tasks\n",
    "\n",
    "## Airport and Airline search\n",
    "### List of airports operating in country x"
   ]
  },
  {
   "cell_type": "code",
   "execution_count": 6,
   "id": "052846e7",
   "metadata": {},
   "outputs": [
    {
     "name": "stderr",
     "output_type": "stream",
     "text": [
      "\r",
      "[Stage 10:>                                                         (0 + 1) / 1]\r"
     ]
    },
    {
     "name": "stdout",
     "output_type": "stream",
     "text": [
      "+----------+--------------------+----------------+-------------+----+----+------------------+-------------------+--------+--------+---+---------------------+-------+-----------+\n",
      "|Airport_ID|                Name|            City|      Country|IATA|ICAO|          Latitude|          Longitude|Altitude|Timezone|DST|Tz Database time zone|   Type|     Source|\n",
      "+----------+--------------------+----------------+-------------+----+----+------------------+-------------------+--------+--------+---+---------------------+-------+-----------+\n",
      "|      3411|Barter Island LRR...|   Barter Island|United States| BTI|PABA|     70.1340026855|     -143.582000732|       2|      -9|  A|    America/Anchorage|airport|OurAirports|\n",
      "|      3412|Wainwright Air St...| Fort Wainwright|United States|  \\N|PAWT|       70.61340332|       -159.8600006|      35|      -9|  A|    America/Anchorage|airport|OurAirports|\n",
      "|      3413|Cape Lisburne LRR...|   Cape Lisburne|United States| LUR|PALU|       68.87509918|       -166.1100006|      16|      -9|  A|    America/Anchorage|airport|OurAirports|\n",
      "|      3414|Point Lay LRRS Ai...|       Point Lay|United States| PIZ|PPIZ|       69.73290253|       -163.0050049|      22|      -9|  A|    America/Anchorage|airport|OurAirports|\n",
      "|      3415|Hilo Internationa...|            Hilo|United States| ITO|PHTO|19.721399307250977|-155.04800415039062|      38|     -10|  N|     Pacific/Honolulu|airport|OurAirports|\n",
      "|      3416|Orlando Executive...|         Orlando|United States| ORL|KORL|           28.5455|         -81.332901|     113|      -5|  A|     America/New_York|airport|OurAirports|\n",
      "|      3417|     Bettles Airport|         Bettles|United States| BTT|PABT|       66.91390228|        -151.529007|     647|      -9|  A|    America/Anchorage|airport|OurAirports|\n",
      "|      3418|       Clear Airport|      Clear Mews|United States|  \\N|PACL|         64.301201|        -149.119995|     552|      -9|  A|    America/Anchorage|airport|OurAirports|\n",
      "|      3419|Indian Mountain L...|Indian Mountains|United States| UTO|PAIM|       65.99279785|       -153.7039948|    1273|      -9|  A|    America/Anchorage|airport|OurAirports|\n",
      "|      3420|  Fort Yukon Airport|      Fort Yukon|United States| FYU|PFYU| 66.57150268554688|            -145.25|     433|      -9|  A|    America/Anchorage|airport|OurAirports|\n",
      "|      3421|Sparrevohn LRRS A...|      Sparrevohn|United States| SVW|PASV|       61.09740067|       -155.5740051|    1585|      -9|  A|    America/Anchorage|airport|OurAirports|\n",
      "|      3422|Bryant Army Heliport| Fort Richardson|United States| FRN|PAFR|       61.26639938|       -149.6529999|     378|      -9|  A|    America/Anchorage|airport|OurAirports|\n",
      "|      3423|Tatalina LRRS Air...|        Tatalina|United States| TLJ|PATL|62.894401550299996|     -155.977005005|     964|      -9|  A|    America/Anchorage|airport|OurAirports|\n",
      "|      3424|Cape Romanzof LRR...|   Cape Romanzof|United States| CZF|PACZ|       61.78030014|       -166.0390015|     464|      -9|  A|    America/Anchorage|airport|OurAirports|\n",
      "|      3425|Laurence G Hansco...|         Bedford|United States| BED|KBED|       42.47000122|       -71.28900146|     133|      -5|  A|     America/New_York|airport|OurAirports|\n",
      "|      3426|St Paul Island Ai...| St. Paul Island|United States| SNP|PASN|57.167301177978516|-170.22000122070312|      63|      -9|  A|    America/Anchorage|airport|OurAirports|\n",
      "|      3427|Cape Newenham LRR...|   Cape Newenham|United States| EHM|PAEH|58.646400451699996|      -162.06300354|     541|      -9|  A|    America/Anchorage|airport|OurAirports|\n",
      "|      3428|   St George Airport|    Point Barrow|United States| STG|PAPB|56.578300476100004|     -169.662002563|     125|      -9|  A|    America/Anchorage|airport|OurAirports|\n",
      "|      3429|     Iliamna Airport|         Iliamna|United States| ILI|PAIL|       59.75439835|       -154.9109955|     192|      -9|  A|    America/Anchorage|airport|OurAirports|\n",
      "|      3430|    Platinum Airport|     Port Moller|United States| PTU|PAPM| 59.01139831542969|-161.82000732421875|      15|      -9|  A|    America/Anchorage|airport|OurAirports|\n",
      "+----------+--------------------+----------------+-------------+----+----+------------------+-------------------+--------+--------+---+---------------------+-------+-----------+\n",
      "only showing top 20 rows\n",
      "\n"
     ]
    },
    {
     "name": "stderr",
     "output_type": "stream",
     "text": [
      "\r",
      "                                                                                \r"
     ]
    }
   ],
   "source": [
    "#filter by desired country, united states for example\n",
    "United_States_Airports = airports_dat.filter(airports_dat[\"Country\"] == \"United States\")\n",
    "United_States_Airports.show()\n",
    "\n",
    "\n"
   ]
  },
  {
   "cell_type": "markdown",
   "id": "bac0a6f7",
   "metadata": {},
   "source": [
    "### List of airlines having x stops"
   ]
  },
  {
   "cell_type": "code",
   "execution_count": 7,
   "id": "217ade32",
   "metadata": {},
   "outputs": [
    {
     "name": "stderr",
     "output_type": "stream",
     "text": [
      "                                                                                \r"
     ]
    },
    {
     "name": "stdout",
     "output_type": "stream",
     "text": [
      "+----------+--------------------+--------------------+----+----+------------+-------------+------+\n",
      "|Airline_ID|                Name|               Alias|IATA|ICAO|    Callsign|      Country|Active|\n",
      "+----------+--------------------+--------------------+----+----+------------+-------------+------+\n",
      "|       330|          Air Canada|                  \\N|  AC| ACA|  AIR CANADA|       Canada|     Y|\n",
      "|      1316|     AirTran Airways|                  \\N|  FL| TRS|      CITRUS|United States|     Y|\n",
      "|      1623|      Canadian North|                  \\N|  5T| MPE|     EMPRESS|       Canada|     Y|\n",
      "|      1936|  Cubana de Aviación|                  \\N|  CU| CUB|      CUBANA|         Cuba|     Y|\n",
      "|      4319|Scandinavian Airl...|SAS Scandinavian ...|  SK| SAS|SCANDINAVIAN|       Sweden|     Y|\n",
      "|      4547|  Southwest Airlines|                  \\N|  WN| SWA|   SOUTHWEST|United States|     Y|\n",
      "+----------+--------------------+--------------------+----+----+------------+-------------+------+\n",
      "\n"
     ]
    }
   ],
   "source": [
    "X_Stops = \"1\"\n",
    "#Filter routes_dat by routes with only one stop\n",
    "X_Stop_Flight_Routes = routes_dat.filter(routes_dat[\"Stops\"] == X_Stops)\n",
    "\n",
    "# Create a list of airline_IDs from routes with one stop\n",
    "Airline_ID_List = [row[0] for row in X_Stop_Flight_Routes.select(\"Airline_ID\").distinct().collect()]\n",
    "\n",
    "# Filter airline_dat by airline_IDs from the list above\n",
    "X_Stop_Airlines = airlines_dat.filter(airlines_dat[\"Airline_ID\"].isin(Airline_ID_List))\n",
    "X_Stop_Airlines.show()"
   ]
  },
  {
   "cell_type": "markdown",
   "id": "8eda157f",
   "metadata": {},
   "source": [
    "### List of airlines operating with code share"
   ]
  },
  {
   "cell_type": "code",
   "execution_count": 8,
   "id": "90cb2bba",
   "metadata": {},
   "outputs": [
    {
     "name": "stderr",
     "output_type": "stream",
     "text": [
      "                                                                                \r"
     ]
    },
    {
     "name": "stdout",
     "output_type": "stream",
     "text": [
      "+----------+--------------------+--------------------+----+----+---------------+-----------------+------+\n",
      "|Airline_ID|                Name|               Alias|IATA|ICAO|       Callsign|          Country|Active|\n",
      "+----------+--------------------+--------------------+----+----+---------------+-----------------+------+\n",
      "|        24|   American Airlines|                  \\N|  AA| AAL|       AMERICAN|    United States|     Y|\n",
      "|        28|     Asiana Airlines|                  \\N|  OZ| AAR|         ASIANA|Republic of Korea|     Y|\n",
      "|        90|          Air Europa|                  \\N|  UX| AEA|         EUROPA|            Spain|     Y|\n",
      "|        96|     Aegean Airlines|                  \\N|  A3| AEE|         AEGEAN|           Greece|     Y|\n",
      "|       116|           Air Italy|                  \\N|  I9| AEY|      AIR ITALY|            Italy|     Y|\n",
      "|       130|Aeroflot Russian ...|                  \\N|  SU| AFL|       AEROFLOT|           Russia|     Y|\n",
      "|       137|          Air France|                  \\N|  AF| AFR|       AIRFRANS|           France|     Y|\n",
      "|       197| Azerbaijan Airlines|                  \\N|  J2| AHY|           AZAL|       Azerbaijan|     Y|\n",
      "|       214|          Air Berlin|                  \\N|  AB| BER|     AIR BERLIN|          Germany|     Y|\n",
      "|       218|   Air India Limited|                  \\N|  AI| AIC|       AIRINDIA|            India|     Y|\n",
      "|       225|      Air Tahiti Nui|                  \\N|  TN| THT|TAHITI AIRLINES|           France|     Y|\n",
      "|       240|             Air One|                  \\N|  AP| ADH|          HERON|            Italy|     Y|\n",
      "|       241|          Air Sahara|                  \\N|  S2| RSH|         SAHARA|            India|     Y|\n",
      "|       242|           Air Malta|                  \\N|  KM| AMC|      AIR MALTA|            Malta|     Y|\n",
      "|       316|           Air Macau|                  \\N|  NX| AMU|      AIR MACAO|            Macao|     Y|\n",
      "|       319|      Air Seychelles|                  \\N|  HM| SEY|     SEYCHELLES|       Seychelles|     Y|\n",
      "|       321|          AeroMéxico|                  \\N|  AM| AMX|     AEROMEXICO|           Mexico|     Y|\n",
      "|       324|  All Nippon Airways|ANA All Nippon Ai...|  NH| ANA|     ALL NIPPON|            Japan|     Y|\n",
      "|       330|          Air Canada|                  \\N|  AC| ACA|     AIR CANADA|           Canada|     Y|\n",
      "|       333|          Air Baltic|                  \\N|  BT| BTI|      AIRBALTIC|           Latvia|     Y|\n",
      "+----------+--------------------+--------------------+----+----+---------------+-----------------+------+\n",
      "only showing top 20 rows\n",
      "\n"
     ]
    }
   ],
   "source": [
    "# Filter routes_dat by routes with codeshare\n",
    "Codeshare_Routes = routes_dat.filter(routes_dat[\"Codeshare\"] == \"Y\")\n",
    "\n",
    "# Create a list of airline_IDs marked Y for codeshare\n",
    "Codeshare_List = [row[0] for row in Codeshare_Routes.select(\"Airline_ID\").distinct().collect()]\n",
    "\n",
    "# Filter airline_dat by airline_IDs from the above list\n",
    "Airlines_With_Codeshare = airlines_dat.filter(airlines_dat[\"Airline_ID\"].isin(Codeshare_List))\n",
    "Airlines_With_Codeshare.show()"
   ]
  },
  {
   "cell_type": "markdown",
   "id": "59ef08e5",
   "metadata": {},
   "source": [
    "### List of active airlines in the United States"
   ]
  },
  {
   "cell_type": "code",
   "execution_count": 9,
   "id": "59d08778",
   "metadata": {},
   "outputs": [
    {
     "name": "stdout",
     "output_type": "stream",
     "text": [
      "+----------+--------------------+-----+----+----+-------------+-------------+------+\n",
      "|Airline_ID|                Name|Alias|IATA|ICAO|     Callsign|      Country|Active|\n",
      "+----------+--------------------+-----+----+----+-------------+-------------+------+\n",
      "|        10|         40-Mile Air|   \\N|  Q5| MLA|     MILE-AIR|United States|     Y|\n",
      "|        22|      Aloha Airlines|   \\N|  AQ| AAH|        ALOHA|United States|     Y|\n",
      "|        24|   American Airlines|   \\N|  AA| AAL|     AMERICAN|United States|     Y|\n",
      "|        35|       Allegiant Air|   \\N|  G4| AAY|    ALLEGIANT|United States|     Y|\n",
      "|       109|Alaska Central Ex...|   \\N|  KO| AER|      ACE AIR|United States|     Y|\n",
      "|       149|  Air Cargo Carriers|   \\N|  2Q| SNC|  NIGHT CARGO|United States|     Y|\n",
      "|       210|Airlift Internati...|   \\N|null| AIR|      AIRLIFT|United States|     Y|\n",
      "|       281|America West Airl...|   \\N|  HP| AWE|       CACTUS|United States|     Y|\n",
      "|       282|       Air Wisconsin|   \\N|  ZW| AWI|AIR WISCONSIN|United States|     Y|\n",
      "|       287|Allegheny Commute...|   \\N|null| ALO|    ALLEGHENY|United States|     Y|\n",
      "|       295|        Air Sunshine|   \\N|null| RSI| AIR SUNSHINE|United States|     Y|\n",
      "|       315|        ATA Airlines|   \\N|null| AMT|       AMTRAN|United States|     Y|\n",
      "|       397|           Arrow Air|   \\N|  JW| APW|        BIG A|United States|     Y|\n",
      "|       452|Atlantic Southeas...|   \\N|  EV| ASQ|         ACEY|United States|     Y|\n",
      "|       659|American Eagle Ai...|   \\N|  MQ| EGF| EAGLE FLIGHT|United States|     Y|\n",
      "|       792|          Access Air|   \\N|  ZA| CYD|      CYCLONE|United States|     Y|\n",
      "|       882|         Air Florida|   \\N|  QH| FLZ|  AIR FLORIDA|United States|     Y|\n",
      "|       928|           Atlas Air|   \\N|  5Y| GTI|        GIANT|United States|     Y|\n",
      "|      1316|     AirTran Airways|   \\N|  FL| TRS|       CITRUS|United States|     Y|\n",
      "|      1442|    Bemidji Airlines|   \\N|  CH| BMJ|      BEMIDJI|United States|     Y|\n",
      "+----------+--------------------+-----+----+----+-------------+-------------+------+\n",
      "only showing top 20 rows\n",
      "\n"
     ]
    }
   ],
   "source": [
    "US_Airlines = airlines_dat.filter(airlines_dat[\"Country\"] == \"United States\")\n",
    "Active_US_Airlines = US_Airlines.filter(US_Airlines[\"Active\"] == \"Y\")\n",
    "\n",
    "Active_US_Airlines.show()"
   ]
  },
  {
   "cell_type": "markdown",
   "id": "763f1dce",
   "metadata": {},
   "source": [
    "### Country or territory with highest number of airports"
   ]
  },
  {
   "cell_type": "code",
   "execution_count": 10,
   "id": "480a9d0d",
   "metadata": {},
   "outputs": [
    {
     "name": "stderr",
     "output_type": "stream",
     "text": [
      "                                                                                \r"
     ]
    },
    {
     "name": "stdout",
     "output_type": "stream",
     "text": [
      "+--------------+-----+\n",
      "|       Country|count|\n",
      "+--------------+-----+\n",
      "| United States| 1512|\n",
      "|        Canada|  430|\n",
      "|     Australia|  334|\n",
      "|        Russia|  264|\n",
      "|        Brazil|  264|\n",
      "|       Germany|  249|\n",
      "|         China|  241|\n",
      "|        France|  217|\n",
      "|United Kingdom|  167|\n",
      "|         India|  148|\n",
      "|     Indonesia|  145|\n",
      "|         Japan|  123|\n",
      "|  South Africa|   99|\n",
      "|     Argentina|   96|\n",
      "|        Mexico|   84|\n",
      "|         Italy|   83|\n",
      "|          Iran|   82|\n",
      "|        Sweden|   77|\n",
      "|        Turkey|   76|\n",
      "|      Colombia|   75|\n",
      "+--------------+-----+\n",
      "only showing top 20 rows\n",
      "\n"
     ]
    }
   ],
   "source": [
    "airports_dat.groupBy(\"Country\").count().orderBy(\"count\", ascending=False).show()"
   ]
  },
  {
   "cell_type": "markdown",
   "id": "79bb131e",
   "metadata": {},
   "source": [
    "### Top K cities with most incoming airlines"
   ]
  },
  {
   "cell_type": "code",
   "execution_count": 15,
   "id": "ce3b2b42",
   "metadata": {},
   "outputs": [
    {
     "name": "stderr",
     "output_type": "stream",
     "text": [
      "                                                                                \r"
     ]
    },
    {
     "name": "stdout",
     "output_type": "stream",
     "text": [
      "Top 5 cities with most incoming airlines:\n",
      "1. London\n",
      "2. Paris\n",
      "3. Beijing\n",
      "4. Atlanta\n",
      "5. Chicago\n"
     ]
    }
   ],
   "source": [
    "# Count number of incoming flights based on routes\n",
    "K = 5\n",
    "Incoming_Flight_Count = routes_dat.groupby(\"Destination_Airport_ID\").count()\n",
    "Top_K_Destination = Incoming_Flight_Count.orderBy(\"count\", ascending=False).limit(K)\n",
    "\n",
    "# Create list of top K airports_IDs\n",
    "Top_K_ID_List = [row[0] for row in Top_K_Destination.select(\"Destination_Airport_ID\").collect()]\n",
    "\n",
    "# Filter top K airports from airports_dat\n",
    "Top_K_Airports = airports_dat.filter(airports_dat[\"Airport_ID\"].isin(Top_K_ID_List))\n",
    "\n",
    "# Sort top K airports by city\n",
    "Top_K_Cities = [row[0] for row in Top_K_Airports.select(\"City\").collect()]\n",
    "print(\"Top \" + str(K) + \" cities with most incoming airlines:\")\n",
    "i = 1\n",
    "for city in Top_K_Cities:\n",
    "    print(i, end=\". \")\n",
    "    print(city)\n",
    "    i += 1\n"
   ]
  },
  {
   "cell_type": "markdown",
   "id": "0433e47a",
   "metadata": {},
   "source": [
    "## Geospatial Analytics\n",
    "### Closest airport to a city X's geospatial coordinate"
   ]
  },
  {
   "cell_type": "code",
   "execution_count": null,
   "id": "455ab9e6",
   "metadata": {},
   "outputs": [],
   "source": []
  },
  {
   "cell_type": "markdown",
   "id": "de546a03",
   "metadata": {},
   "source": [
    "### Airport in each US states geospatial boundary"
   ]
  },
  {
   "cell_type": "code",
   "execution_count": null,
   "id": "85b24d38",
   "metadata": {},
   "outputs": [],
   "source": []
  }
 ],
 "metadata": {
  "kernelspec": {
   "display_name": "Python 3 (ipykernel)",
   "language": "python",
   "name": "python3"
  },
  "language_info": {
   "codemirror_mode": {
    "name": "ipython",
    "version": 3
   },
   "file_extension": ".py",
   "mimetype": "text/x-python",
   "name": "python",
   "nbconvert_exporter": "python",
   "pygments_lexer": "ipython3",
   "version": "3.8.10"
  }
 },
 "nbformat": 4,
 "nbformat_minor": 5
}
